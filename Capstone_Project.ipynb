{
 "cells": [
  {
   "cell_type": "markdown",
   "metadata": {},
   "source": [
    "# Problem Statement\n",
    "Prepare a model for the HR Department to predict the Attrition and give insights from the data about important\n",
    "factors associated with the Attrition so that HR can take corrective or preventive measures to stop or control\n",
    "the Attrition\n"
   ]
  },
  {
   "cell_type": "markdown",
   "metadata": {},
   "source": [
    "# Random Forest Model"
   ]
  },
  {
   "cell_type": "markdown",
   "metadata": {},
   "source": [
    "# Importing Required Libraries"
   ]
  },
  {
   "cell_type": "code",
   "execution_count": null,
   "metadata": {},
   "outputs": [],
   "source": [
    "import pandas as pd\n",
    "import numpy as np\n",
    "import matplotlib.pyplot as plt\n",
    "import seaborn as sns\n",
    "from matplotlib.patches import Patch\n",
    "from scipy.stats import norm\n",
    "from sklearn.preprocessing import StandardScaler\n",
    "from scipy import stats\n",
    "import warnings\n",
    "warnings.filterwarnings('ignore')\n",
    "%matplotlib inline\n",
    "from sklearn.metrics import roc_curve, auc\n",
    "from sklearn.metrics import confusion_matrix\n",
    "from sklearn.metrics import classification_report\n",
    "from sklearn.model_selection import KFold, cross_val_score\n",
    "from sklearn.model_selection import train_test_split, GridSearchCV\n",
    "from sklearn.ensemble import RandomForestClassifier \n",
    "from urllib.request import urlopen \n",
    "from numpy import mean\n",
    "from numpy import std\n",
    "from six import StringIO  \n",
    "from IPython.display import Image  \n",
    "from sklearn.tree import export_graphviz\n",
    "import pydotplus\n",
    "from sklearn import preprocessing\n",
    "import time\n",
    "\n",
    "plt.style.use('ggplot')\n"
   ]
  },
  {
   "cell_type": "code",
   "execution_count": null,
   "metadata": {},
   "outputs": [],
   "source": [
    "# Setting option to see maximum number of columns and rows\n",
    "pd.set_option('display.max_columns' , None)\n",
    "pd.set_option('display.max_rows' , None)"
   ]
  },
  {
   "cell_type": "markdown",
   "metadata": {},
   "source": [
    "# Read The Data From csv"
   ]
  },
  {
   "cell_type": "code",
   "execution_count": null,
   "metadata": {},
   "outputs": [],
   "source": [
    "attrition_df = pd.read_csv('/Users/priyankac/Downloads/Capstone Project/HR_Employee_Attrition_Data.csv')\n",
    "attrition_df.head()"
   ]
  },
  {
   "cell_type": "code",
   "execution_count": null,
   "metadata": {},
   "outputs": [],
   "source": [
    "# Getting dimension of the data\n",
    "print('Here is the dimension of our data: ' , attrition_df.shape)\n"
   ]
  },
  {
   "cell_type": "code",
   "execution_count": null,
   "metadata": {},
   "outputs": [],
   "source": [
    "# Getting data types of all the columns\n",
    "print('Here is the data types of all our columns: \\n' , attrition_df.dtypes)"
   ]
  },
  {
   "cell_type": "code",
   "execution_count": null,
   "metadata": {},
   "outputs": [],
   "source": [
    "# Getting concise summary of the data\n",
    "attrition_df.info()"
   ]
  },
  {
   "cell_type": "code",
   "execution_count": null,
   "metadata": {},
   "outputs": [],
   "source": [
    "# Descriptive Statistics of the given data\n",
    "attrition_df.describe()\n",
    "\n",
    "# Insights:\n",
    "'''     1. It can be seen that there are 2940 total count of variables in each numeric column\n",
    "\n",
    "        2. Describe function gives the range of numerical columns/variables ,five number summary about the \n",
    "           data set giving the minimium value, maximum value,mean,median(50%), \n",
    "           lower quartile(25%),upper quartile(75%) values of the data'''"
   ]
  },
  {
   "cell_type": "markdown",
   "metadata": {},
   "source": [
    "# Missing Value Check"
   ]
  },
  {
   "cell_type": "code",
   "execution_count": null,
   "metadata": {},
   "outputs": [],
   "source": [
    "# Check total number of missing value in the data set\n",
    "attrition_df.isnull().sum()\n",
    "\n",
    "# Insight:\n",
    "     '''There are no missing values in the data'''"
   ]
  },
  {
   "cell_type": "markdown",
   "metadata": {},
   "source": [
    "# Duplicate row check"
   ]
  },
  {
   "cell_type": "code",
   "execution_count": null,
   "metadata": {},
   "outputs": [],
   "source": [
    "# Checking for any duplicate rows present in the given data\n",
    "df_duplicate = attrition_df.duplicated()\n",
    "df_duplicate.any()\n",
    "\n",
    "# Insight:\n",
    "       '''No duplicate rows present'''"
   ]
  },
  {
   "cell_type": "markdown",
   "metadata": {},
   "source": [
    "# Zero Variance Check"
   ]
  },
  {
   "cell_type": "code",
   "execution_count": null,
   "metadata": {},
   "outputs": [],
   "source": [
    "# Checking the columns that have one unique value\n",
    "attrition_df.nunique()\n",
    "\n",
    "# Insight:\n",
    "        '''Variables 'EmployeeCount','Over18' and 'StandardHours' are zero variance columns\n",
    "          These columns need to be dropped before model building'''"
   ]
  },
  {
   "cell_type": "code",
   "execution_count": null,
   "metadata": {},
   "outputs": [],
   "source": [
    "# Dropping the unnecessary columns\n",
    "cols_to_drop = ['EmployeeCount', 'Over18', 'StandardHours']\n",
    "attrition_df.drop(cols_to_drop , axis = 1, inplace = True)"
   ]
  },
  {
   "cell_type": "code",
   "execution_count": null,
   "metadata": {},
   "outputs": [],
   "source": [
    "# After dropping the unnecessry columns checking the shape of the data\n",
    "attrition_df.shape\n",
    "\n",
    "\n",
    "# Insight:\n",
    "      '''We can see that three columns have been dropped and total numner of columns is reduced to 32'''"
   ]
  },
  {
   "cell_type": "markdown",
   "metadata": {},
   "source": [
    "# Categorical Columns"
   ]
  },
  {
   "cell_type": "code",
   "execution_count": null,
   "metadata": {},
   "outputs": [],
   "source": [
    "# Getting all the categorical variables\n",
    "df_category = attrition_df.select_dtypes(include = 'object')\n",
    "df_category.head()\n"
   ]
  },
  {
   "cell_type": "code",
   "execution_count": null,
   "metadata": {},
   "outputs": [],
   "source": [
    "# Checking the different values in 'BusinessTravel'\n",
    "attrition_df['BusinessTravel'].value_counts()\n",
    "\n",
    "# Cleaning the variable 'BusinessTravel' and replacing all'-' with '_'\n",
    "attrition_df['BusinessTravel'] = attrition_df['BusinessTravel'].str.replace('-' , '_')\n",
    "attrition_df['BusinessTravel'].value_counts()\n"
   ]
  },
  {
   "cell_type": "code",
   "execution_count": null,
   "metadata": {},
   "outputs": [],
   "source": [
    "# Note:\n",
    "       \"\"\" Columns-'Education','EnvironmentSatisfaction','JobInvolvement','JobLevel','JobSatisfaction',\n",
    "                   'StockOptionLevel','WorkLifeBalance','PerformanceRating','RelationshipSatisfaction' \n",
    "                    are all categorical columns\"\"\""
   ]
  },
  {
   "cell_type": "markdown",
   "metadata": {},
   "source": [
    "# Numerical columns"
   ]
  },
  {
   "cell_type": "code",
   "execution_count": null,
   "metadata": {},
   "outputs": [],
   "source": [
    "# Getting all the numerical variables\n",
    "df_numerical = attrition_df.select_dtypes(exclude = 'object')\n",
    "df_numerical.head()\n",
    "\n",
    "# Insight:\n",
    "       \"\"\"From the description we know that variables 'Education','EnvironmentSatisfaction','JobInvolvement'.'JobLevel',\n",
    "        'JobSatisfation','StockOptionLevel' and 'WorkLifeBalance' are categorical columns not numerical\"\"\""
   ]
  },
  {
   "cell_type": "code",
   "execution_count": null,
   "metadata": {},
   "outputs": [],
   "source": [
    "# Dropping categorical columns from dataframe of numerical columns\n",
    "new_cols_to_drop = ['Education','EnvironmentSatisfaction','JobInvolvement','JobLevel','JobSatisfaction',\n",
    "                   'StockOptionLevel','WorkLifeBalance','PerformanceRating','RelationshipSatisfaction']\n",
    "df_numerical.drop(new_cols_to_drop , axis = 1, inplace = True)"
   ]
  },
  {
   "cell_type": "code",
   "execution_count": null,
   "metadata": {},
   "outputs": [],
   "source": [
    "df_numerical.head()"
   ]
  },
  {
   "cell_type": "markdown",
   "metadata": {},
   "source": [
    "# Correlation check"
   ]
  },
  {
   "cell_type": "code",
   "execution_count": null,
   "metadata": {},
   "outputs": [],
   "source": [
    "# Converting the variable 'Attrition' to binary for plots and model\n",
    "attrition_df['Attrition'] = attrition_df['Attrition'].map({'Yes':1, 'No':0})"
   ]
  },
  {
   "cell_type": "code",
   "execution_count": null,
   "metadata": {},
   "outputs": [],
   "source": [
    "# Plotting the correlation matrix\n",
    "corr_matrix = attrition_df.corr()\n",
    "print(corr_matrix)"
   ]
  },
  {
   "cell_type": "code",
   "execution_count": null,
   "metadata": {},
   "outputs": [],
   "source": [
    "# Plotting the heatmap to check the correlation\n",
    "fig, ax = plt.subplots(figsize=(20,15))  \n",
    "sns.heatmap(corr_matrix , annot = True, fmt = '.2g', vmin = 0, vmax = 1, cmap = 'coolwarm')\n",
    "\n",
    "# Insight:\n",
    "       \"\"\"1. Following variables are strongly correlated:\n",
    "\n",
    "             'TotalYearsWorking' and 'JobLevel' having strong positive correlation(0.78)\n",
    "              'TotalYearsWorking' and 'MonthlyIncome' having strong positive correlation(0.77) \n",
    "              'YearsAtCompany' and 'YearsWithManager' having stong positive correlation(0.77) \n",
    "              'YearsAtCompany' and 'YearsInCurrentRole' having strong positive correlation(0.76)\n",
    "              'PercentSalaryHike' and 'PerfromanceRating' having strong positive correlation(0.77)\n",
    "\n",
    "        2. Columns that have strong correlation need to be dropped as they affect the model\n",
    "       3. Columns 'TotalYearsWorking' , 'YearAtCompany' ,'PerformanceRating' need to dropped\n",
    "           (needs to be checked for realtionship with 'Attrition' in visualizations before dropping them) \"\"\""
   ]
  },
  {
   "cell_type": "markdown",
   "metadata": {},
   "source": [
    "### Analysis on 'Attrition' (dependent variable)"
   ]
  },
  {
   "cell_type": "code",
   "execution_count": null,
   "metadata": {},
   "outputs": [],
   "source": [
    "# Finding the count of 'Attrition'\n",
    "stats = attrition_df['Attrition'].value_counts()\n",
    "stats\n",
    "\n",
    "# Insight:\n",
    "   \"\"\" 1. There are total 2940 records, out of which total count of Attrition status 'No' is 2466 and 'Yes' is 474\n",
    "        2. The data is not balanced,that is,our target classes,'No' and 'Yes' attrition status is not represented \n",
    "         equally in the data set\"\"\""
   ]
  },
  {
   "cell_type": "code",
   "execution_count": null,
   "metadata": {},
   "outputs": [],
   "source": [
    "# Visualizing variable 'Attrition'\n",
    "sns.countplot('Attrition' , data = attrition_df).set(title = 'Count of 0 and 1')\n",
    "plt.show()\n",
    "\n",
    "# Insight:\n",
    "      ''' From the countplot we can observe that the count of Attrition 'No' is more than count of'Yes'   '''"
   ]
  },
  {
   "cell_type": "code",
   "execution_count": null,
   "metadata": {},
   "outputs": [],
   "source": [
    "#Calculate the attrition percentage\n",
    "print(\"Attrition % in the company is::\",(attrition_df['Attrition'].value_counts()['Yes']/attrition_df['Attrition']\n",
    "                                         .count())*100)\n"
   ]
  },
  {
   "cell_type": "code",
   "execution_count": null,
   "metadata": {},
   "outputs": [],
   "source": [
    "# Plotting Pie chart for 'Attrition'\n",
    "attrition_df['Attrition'].value_counts().plot.pie(autopct = '%1.1f%%')\n",
    "\n",
    "# Insight:\n",
    "       '''From the pie chart we can see attrition status is about 16.1% '''"
   ]
  },
  {
   "cell_type": "markdown",
   "metadata": {},
   "source": [
    "### Analysis on 'Age'"
   ]
  },
  {
   "cell_type": "code",
   "execution_count": null,
   "metadata": {},
   "outputs": [],
   "source": [
    "# Discriptive Statistics on 'Age'\n",
    "attrition_df['Age'].describe()\n",
    "\n",
    "# Insight:\n",
    "    ''' From Five number summary,age is in symmetric distribution.Most of the data lies around the age of 36.\n",
    "      Maximum age of employees is 60 and minimum age is 18'''"
   ]
  },
  {
   "cell_type": "code",
   "execution_count": null,
   "metadata": {},
   "outputs": [],
   "source": [
    "#  Plot Age distribution\n",
    "plt.figure(figsize = (15,5))\n",
    "\n",
    "plt.subplot(1,2,1)\n",
    "sns.distplot(attrition_df['Age'])\n",
    "\n",
    "plt.subplot(1,2,2)\n",
    "sns.boxplot(attrition_df['Age'])\n",
    "plt.show()\n",
    "\n",
    "# Insight:\n",
    "     '''From the histogram we can see that we have almost symmetrical distribution curve\n",
    "      \n",
    "\n",
    "      From the boxplot we can see that most of the employees are bewteen the age of 30 to 42 and\n",
    "      there are no outliers present '''"
   ]
  },
  {
   "cell_type": "code",
   "execution_count": null,
   "metadata": {},
   "outputs": [],
   "source": [
    "# Relationship between 'Attrition' and 'Age'\n",
    "plt.figure(figsize = (15,6))\n",
    "sns.swarmplot(x = 'Attrition', y = 'Age', data = attrition_df, hue = 'Attrition')\n",
    "plt.show()\n",
    "\n",
    "\n",
    "# Insight:\n",
    "'''From the boxplot we can see that there is no linear relationship between 'Attrition' and 'Age'.Maximum\n",
    "      attrition is happening between the age of 25 to 35'''"
   ]
  },
  {
   "cell_type": "markdown",
   "metadata": {},
   "source": [
    "### Analysis on 'BusinessTravel'"
   ]
  },
  {
   "cell_type": "code",
   "execution_count": null,
   "metadata": {},
   "outputs": [],
   "source": [
    "# Getting the count of different categories in 'BusinessTravel'\n",
    "attrition_df['BusinessTravel'].value_counts()\n"
   ]
  },
  {
   "cell_type": "code",
   "execution_count": null,
   "metadata": {},
   "outputs": [],
   "source": [
    "# Grouping this data according to attrition\n",
    "attrition_df.groupby(['BusinessTravel', 'Attrition'])['Attrition'].count()"
   ]
  },
  {
   "cell_type": "code",
   "execution_count": null,
   "metadata": {},
   "outputs": [],
   "source": [
    "# Visualizing the count of 'Businesstravel'\n",
    "plt.figure(figsize = (15,6))\n",
    "sns.countplot('BusinessTravel' , data = attrition_df).set(title = 'Business Travel')\n",
    "plt.show()\n"
   ]
  },
  {
   "cell_type": "code",
   "execution_count": null,
   "metadata": {},
   "outputs": [],
   "source": [
    "# Creating a new variable 'BusinessTravel_cat' by converting 'BusinessTravel' to categorical value in number form\n",
    "\n",
    "# Travel_Rarely = 1\n",
    "# Travel_Frequently = 2\n",
    "# Non_Travel = 3\n",
    "\n",
    "attrition_df.loc[attrition_df['BusinessTravel'] == 'Travel_Rarely','BusinessTravel_cat'] = 1\n",
    "attrition_df.loc[attrition_df['BusinessTravel'] == 'Travel_Frequently','BusinessTravel_cat'] = 2\n",
    "attrition_df.loc[attrition_df['BusinessTravel'] == 'Non_Travel','BusinessTravel_cat'] = 3\n",
    "attrition_df.head()"
   ]
  },
  {
   "cell_type": "code",
   "execution_count": null,
   "metadata": {},
   "outputs": [],
   "source": [
    "# Relationship between 'Attrition' and 'Age' with respect to 'BusinessTravel'\n",
    "\n",
    "# Travel_Rarely = 1\n",
    "# Travel_Frequently = 2\n",
    "# Non_Travel = 3\n",
    "\n",
    "plt.figure(figsize = (15,6))\n",
    "sns.swarmplot(x = 'Attrition' , y = 'Age' , data = attrition_df , hue = 'BusinessTravel_cat')\n",
    "plt.show()\n",
    "\n",
    "# Insight:\n",
    "''' From the plot below we can see that attrition is high between age 25 to 35.It can also be seen that this \n",
    "    age group of employees are travelling frequently'''"
   ]
  },
  {
   "cell_type": "markdown",
   "metadata": {},
   "source": [
    "### Analysis on 'Department'\n"
   ]
  },
  {
   "cell_type": "code",
   "execution_count": null,
   "metadata": {},
   "outputs": [],
   "source": [
    "# Getting count of different categories in 'Department'\n",
    "attrition_df['Department'].value_counts()"
   ]
  },
  {
   "cell_type": "code",
   "execution_count": null,
   "metadata": {
    "scrolled": true
   },
   "outputs": [],
   "source": [
    "# Visualizing the count of 'Department'\n",
    "plt.figure(figsize = (12,5))\n",
    "sns.countplot('Department' , data = attrition_df).set(title = 'Count by Departments')\n",
    "plt.show()\n"
   ]
  },
  {
   "cell_type": "code",
   "execution_count": null,
   "metadata": {},
   "outputs": [],
   "source": [
    "# Creating new variable 'Department_ord' by converting 'Department' data to ordinal variable\n",
    "\n",
    "#Sales = 1\n",
    "#Research and Development = 2\n",
    "#Human Resorces = 3\n",
    "\n",
    "attrition_df.loc[attrition_df['Department'] == 'Sales', 'Department_ord'] = 1\n",
    "attrition_df.loc[attrition_df['Department'] == 'Research & Development', 'Department_ord'] = 2\n",
    "attrition_df.loc[attrition_df['Department'] == 'Human Resources', 'Department_ord'] = 3\n",
    "attrition_df.head()"
   ]
  },
  {
   "cell_type": "code",
   "execution_count": null,
   "metadata": {},
   "outputs": [],
   "source": [
    "# Getting count of 'BusinessTravel' by each 'Department'\n",
    "department_group = attrition_df.groupby(['Department'])\n",
    "department_group\n",
    "\n",
    "# Count with respect to 'Sales'\n",
    "df_sales = department_group.get_group('Sales')['BusinessTravel'].value_counts()\n",
    "df_sales = pd.DataFrame(df_sales)\n",
    "df_sales = df_sales.reset_index()\n",
    "df_sales['Department'] = 'Sales'\n",
    "df_sales\n"
   ]
  },
  {
   "cell_type": "code",
   "execution_count": null,
   "metadata": {},
   "outputs": [],
   "source": [
    "# Count with respect to Research & Development\n",
    "df_rd = department_group.get_group('Research & Development')['BusinessTravel'].value_counts()\n",
    "df_rd = pd.DataFrame(df_rd)\n",
    "df_rd = df_rd.reset_index()\n",
    "df_rd['Department'] = 'Research & Development'\n",
    "\n",
    "df1 = df_sales.append(df_rd , ignore_index = True)\n",
    "df1"
   ]
  },
  {
   "cell_type": "code",
   "execution_count": null,
   "metadata": {},
   "outputs": [],
   "source": [
    "# Count with respect to Human Resources\n",
    "df_hr = department_group.get_group('Human Resources')['BusinessTravel'].value_counts()\n",
    "df_hr = pd.DataFrame(df_hr)\n",
    "df_hr = df_hr.reset_index()\n",
    "df_hr['Department'] = 'Human Resources'\n",
    "\n",
    "df2 = df1.append(df_hr , ignore_index = True)\n",
    "df2\n"
   ]
  },
  {
   "cell_type": "code",
   "execution_count": null,
   "metadata": {},
   "outputs": [],
   "source": [
    "# Printing the percentage of people who travel frequently by 'Department'\n",
    "print('% Frequent Travel in Sales: ',df2.loc[(df2['Department'] == 'Sales') & (df2['index'] == 'Travel_Frequently'),\n",
    "                                            'BusinessTravel'].sum()/df2.loc[(df2['Department'] == 'Sales'),\n",
    "                                                                           'BusinessTravel'].sum())\n",
    "\n",
    "print('% Frequent Travel in Research & Development: ',df2.loc[(df2['Department'] == 'Research & Development') & \n",
    "                                    (df2['index'] == 'Travel_Frequently'),'BusinessTravel'].sum()/\n",
    "                                    df2.loc[(df2['Department'] == 'Research & Development'),'BusinessTravel'].sum())\n",
    "\n",
    "print('% Frequent Travel in Human Resources: ',df2.loc[(df2['Department'] == 'Human Resources') & \n",
    "                                    (df2['index'] == 'Travel_Frequently'),'BusinessTravel'].sum()/\n",
    "                                    df2.loc[(df2['Department'] == 'Human Resources'),'BusinessTravel'].sum())\n"
   ]
  },
  {
   "cell_type": "code",
   "execution_count": null,
   "metadata": {},
   "outputs": [],
   "source": [
    "# Plotting 'Department' with 'Businesstravel'\n",
    "plt.figure(figsize = (15,5))\n",
    "sns.barplot(x = 'Department', y = 'BusinessTravel', data = df2, hue = 'index')\n",
    "plt.show()"
   ]
  },
  {
   "cell_type": "code",
   "execution_count": null,
   "metadata": {},
   "outputs": [],
   "source": [
    "# Grouping 'Department' according to 'Attrition'\n",
    "attrition_df.groupby(['Department', 'Attrition'])['Attrition'].count()"
   ]
  },
  {
   "cell_type": "code",
   "execution_count": null,
   "metadata": {},
   "outputs": [],
   "source": [
    "# Calculating 'Attrition' % for each 'Department'\n",
    "\n",
    "# Attrition for Sales \n",
    "att_by_sales = department_group.get_group('Sales')['Attrition'].value_counts()\n",
    "att_by_sales\n",
    "\n",
    "# Attrition for Reasearch & Development\n",
    "att_by_rd = department_group.get_group('Research & Development')['Attrition'].value_counts()\n",
    "att_by_rd\n",
    "\n",
    "# attrition for Human Resources\n",
    "att_by_hr = department_group.get_group('Human Resources')['Attrition'].value_counts()\n",
    "att_by_hr\n",
    "\n",
    "# Attrition by Department\n",
    "att_by_dept = pd.DataFrame(columns = ['Department','Attrition'])\n",
    "\n",
    "att_by_dept.loc[len(att_by_dept)] = ['Sales' , att_by_sales['Yes']/(att_by_sales.sum())*100]\n",
    "att_by_dept.loc[len(att_by_dept)] = ['Research & Development', att_by_rd['Yes']/(att_by_rd.sum())*100]\n",
    "att_by_dept.loc[len(att_by_dept)] = ['Human Resources', att_by_hr['Yes']/(att_by_hr.sum())]\n",
    "att_by_dept\n",
    "\n",
    "# Insight:\n",
    "'''Attrition is highest in the Sales Department and lowest in the Human Resources '''\n"
   ]
  },
  {
   "cell_type": "code",
   "execution_count": null,
   "metadata": {},
   "outputs": [],
   "source": [
    "# Plotting Attrition % for each Department\n",
    "plt.figure(figsize = (15,5))\n",
    "sns.barplot(x = 'Department', y = 'Attrition' , data = att_by_dept)\n",
    "plt.show()"
   ]
  },
  {
   "cell_type": "markdown",
   "metadata": {},
   "source": [
    "### Analysis on 'EnvironmentSatisfaction'"
   ]
  },
  {
   "cell_type": "code",
   "execution_count": null,
   "metadata": {},
   "outputs": [],
   "source": [
    "# Getting count of different Categories in 'EnvironmentSatisfaction'\n",
    "attrition_df['EnvironmentSatisfaction'].value_counts()"
   ]
  },
  {
   "cell_type": "code",
   "execution_count": null,
   "metadata": {},
   "outputs": [],
   "source": [
    "# Calculating 'Attrition' vs 'EnvironmentSatisfaction' \n",
    "envsatisfaction_group = attrition_df.groupby(['EnvironmentSatisfaction', 'Attrition'])\n",
    "envsatisfaction_group.groups.keys()\n"
   ]
  },
  {
   "cell_type": "code",
   "execution_count": null,
   "metadata": {},
   "outputs": [],
   "source": [
    "count = envsatisfaction_group.get_group((1,'Yes'))['EnvironmentSatisfaction'].count()\n",
    "count\n",
    "\n",
    "att_by_envsatisfaction = pd.DataFrame(columns = ['EnvironmentSatisfaction','Attrition','Count'])\n",
    "att_by_envsatisfaction.loc[len(att_by_envsatisfaction)] = ['1', 'Yes' ,count]\n",
    "att_by_envsatisfaction"
   ]
  },
  {
   "cell_type": "code",
   "execution_count": null,
   "metadata": {},
   "outputs": [],
   "source": [
    "count = envsatisfaction_group.get_group((2,'Yes'))['EnvironmentSatisfaction'].count()\n",
    "att_by_envsatisfaction.loc[len(att_by_envsatisfaction)] = ['2', 'Yes', count]\n",
    "att_by_envsatisfaction"
   ]
  },
  {
   "cell_type": "code",
   "execution_count": null,
   "metadata": {},
   "outputs": [],
   "source": [
    "count = envsatisfaction_group.get_group((3, 'Yes'))['EnvironmentSatisfaction'].count()\n",
    "att_by_envsatisfaction.loc[len(att_by_envsatisfaction)] = ['3', 'Yes', count]\n",
    "att_by_envsatisfaction"
   ]
  },
  {
   "cell_type": "code",
   "execution_count": null,
   "metadata": {},
   "outputs": [],
   "source": [
    "count = envsatisfaction_group.get_group((4, 'Yes'))['EnvironmentSatisfaction'].count()\n",
    "att_by_envsatisfaction.loc[len(att_by_envsatisfaction)] = ['4','Yes', count]\n",
    "att_by_envsatisfaction\n",
    "\n",
    "# Insight:\n",
    "'''Attrition is highest for environment satisfaction 1 followed closely by environment satisfaction 3 and 4'''"
   ]
  },
  {
   "cell_type": "code",
   "execution_count": null,
   "metadata": {},
   "outputs": [],
   "source": [
    "# Plotting 'Attrition' vs 'EnvironmentSatisfaction'\n",
    "plt.figure(figsize = (16,6))\n",
    "sns.barplot(x = 'EnvironmentSatisfaction', y = 'Count', data = att_by_envsatisfaction)\n",
    "plt.show()"
   ]
  },
  {
   "cell_type": "markdown",
   "metadata": {},
   "source": [
    "### Analysis on variable 'Gender'\n"
   ]
  },
  {
   "cell_type": "code",
   "execution_count": null,
   "metadata": {},
   "outputs": [],
   "source": [
    "# Getting count total males and females\n",
    "attrition_df['Gender'].value_counts()\n"
   ]
  },
  {
   "cell_type": "code",
   "execution_count": null,
   "metadata": {},
   "outputs": [],
   "source": [
    "# Visualizing count of 'Gender'\n",
    "plt.figure(figsize = (15,5))\n",
    "sns.countplot('Gender' , data = attrition_df).set(title = 'Count by Gender')\n",
    "plt.show()"
   ]
  },
  {
   "cell_type": "code",
   "execution_count": null,
   "metadata": {},
   "outputs": [],
   "source": [
    "# Grouping Gender according to attrition\n",
    "attrition_df.groupby(['Gender', 'Attrition'])['Attrition'].count()"
   ]
  },
  {
   "cell_type": "code",
   "execution_count": null,
   "metadata": {},
   "outputs": [],
   "source": [
    "# Calculating Attrition by Gender\n",
    "gender_group = attrition_df.groupby(['Gender','Attrition'])\n",
    "gender_group.groups.keys()"
   ]
  },
  {
   "cell_type": "code",
   "execution_count": null,
   "metadata": {},
   "outputs": [],
   "source": [
    "att_by_gender = pd.DataFrame(columns = ['Gender','Attrition','Count'])\n",
    "att_by_gender"
   ]
  },
  {
   "cell_type": "code",
   "execution_count": null,
   "metadata": {},
   "outputs": [],
   "source": [
    "count = gender_group.get_group(('Female','Yes'))['Attrition'].count()\n",
    "att_by_gender.loc[(len(att_by_gender))] = ['Female','Yes',count]\n",
    "att_by_gender"
   ]
  },
  {
   "cell_type": "code",
   "execution_count": null,
   "metadata": {},
   "outputs": [],
   "source": [
    "count = gender_group.get_group(('Male', 'Yes'))['Attrition'].count()\n",
    "att_by_gender.loc[len(att_by_gender)] = ['Male', 'Yes', count]\n",
    "att_by_gender\n",
    "\n",
    "# Insight:\n",
    "'''More number of men have left the company than women'''"
   ]
  },
  {
   "cell_type": "code",
   "execution_count": null,
   "metadata": {},
   "outputs": [],
   "source": [
    "# Plotting 'Attrition' vs 'Gender'\n",
    "plt.figure(figsize = (15,5))\n",
    "sns.barplot(x = 'Gender', y = 'Count', data = att_by_gender)\n",
    "plt.show()"
   ]
  },
  {
   "cell_type": "markdown",
   "metadata": {},
   "source": [
    "### Analysis on 'JobInvolvement'"
   ]
  },
  {
   "cell_type": "code",
   "execution_count": null,
   "metadata": {},
   "outputs": [],
   "source": [
    "# Getting total count in each category\n",
    "attrition_df['JobInvolvement'].value_counts()"
   ]
  },
  {
   "cell_type": "code",
   "execution_count": null,
   "metadata": {},
   "outputs": [],
   "source": [
    "# Grouping 'JobInvolvemnt' according to 'Attrition'\n",
    "attrition_df.groupby(['JobInvolvement','Attrition'])['Attrition'].count()"
   ]
  },
  {
   "cell_type": "code",
   "execution_count": null,
   "metadata": {},
   "outputs": [],
   "source": [
    "# Calculating 'Attrition' by 'JobInvolvement'\n",
    "jobInv_group = attrition_df.groupby(['JobInvolvement', 'Attrition'])\n",
    "jobInv_group.groups.keys()"
   ]
  },
  {
   "cell_type": "code",
   "execution_count": null,
   "metadata": {},
   "outputs": [],
   "source": [
    "att_by_jobInv = pd.DataFrame(columns =['JobInvolvement', 'Attrition', 'Count', 'Attrition%'])\n",
    "att_by_jobInv"
   ]
  },
  {
   "cell_type": "code",
   "execution_count": null,
   "metadata": {},
   "outputs": [],
   "source": [
    "count = jobInv_group.get_group((1, 'Yes'))['Attrition'].count()\n",
    "att_by_jobInv.loc[len(att_by_jobInv)] = ['1', 'Yes', count, (count/attrition_df['JobInvolvement'].value_counts()[1])*100]\n",
    "att_by_jobInv"
   ]
  },
  {
   "cell_type": "code",
   "execution_count": null,
   "metadata": {},
   "outputs": [],
   "source": [
    "count = jobInv_group.get_group((2, 'Yes'))['Attrition'].count()\n",
    "att_by_jobInv.loc[len(att_by_jobInv)] = ['2', 'Yes', count, (count/attrition_df['JobInvolvement'].value_counts()[2])*100]\n",
    "att_by_jobInv"
   ]
  },
  {
   "cell_type": "code",
   "execution_count": null,
   "metadata": {},
   "outputs": [],
   "source": [
    "count = jobInv_group.get_group((3, 'Yes'))['Attrition'].count()\n",
    "att_by_jobInv.loc[len(att_by_jobInv)] = ['3','Yes',count,(count/attrition_df['JobInvolvement'].value_counts()[3])*100]\n",
    "att_by_jobInv"
   ]
  },
  {
   "cell_type": "code",
   "execution_count": null,
   "metadata": {},
   "outputs": [],
   "source": [
    "count = jobInv_group.get_group((4, 'Yes'))['Attrition'].count()\n",
    "att_by_jobInv.loc[len(att_by_jobInv)] = ['4','Yes',count,(count/attrition_df['JobInvolvement'].value_counts()[4])*100]\n",
    "att_by_jobInv\n",
    "\n",
    "# Insight:\n",
    "'''Employees who have job involvement rating of 1 have highest attrition'''"
   ]
  },
  {
   "cell_type": "code",
   "execution_count": null,
   "metadata": {},
   "outputs": [],
   "source": [
    "# Plotting 'Attrition%' vs 'JobInvolvement'\n",
    "plt.figure(figsize = (15,5))\n",
    "sns.barplot(x = 'JobInvolvement', y = 'Attrition%', data = att_by_jobInv)\n",
    "plt.show()"
   ]
  },
  {
   "cell_type": "markdown",
   "metadata": {},
   "source": [
    "### Analysis on 'JobLevel'\n"
   ]
  },
  {
   "cell_type": "code",
   "execution_count": null,
   "metadata": {},
   "outputs": [],
   "source": [
    "# Getting total count in each category\n",
    "attrition_df['JobLevel'].value_counts()"
   ]
  },
  {
   "cell_type": "code",
   "execution_count": null,
   "metadata": {},
   "outputs": [],
   "source": [
    "# Grouping JobLevel according to attrition\n",
    "attrition_df.groupby(['JobLevel', 'Attrition'])['Attrition'].count()"
   ]
  },
  {
   "cell_type": "code",
   "execution_count": null,
   "metadata": {},
   "outputs": [],
   "source": [
    "# Calculating 'Attrition' by 'Joblevel'\n",
    "joblvl_group = attrition_df.groupby(['JobLevel', 'Attrition'])\n",
    "joblvl_group.groups.keys()"
   ]
  },
  {
   "cell_type": "code",
   "execution_count": null,
   "metadata": {},
   "outputs": [],
   "source": [
    "att_by_joblvl = pd.DataFrame(columns = ['JobLevel' , 'Attrition', 'Count', 'Attrition%'])\n",
    "att_by_joblvl"
   ]
  },
  {
   "cell_type": "code",
   "execution_count": null,
   "metadata": {},
   "outputs": [],
   "source": [
    "count = joblvl_group.get_group((1, 'Yes'))['Attrition'].count()\n",
    "att_by_joblvl.loc[len(att_by_joblvl)] = ['1', 'Yes', count, (count/attrition_df['JobLevel'].value_counts()[1])*100]\n",
    "att_by_joblvl"
   ]
  },
  {
   "cell_type": "code",
   "execution_count": null,
   "metadata": {},
   "outputs": [],
   "source": [
    "count = joblvl_group.get_group((2, 'Yes'))['Attrition'].count()\n",
    "att_by_joblvl.loc[len(att_by_joblvl)] = ['2' , 'Yes', count ,(count/attrition_df['JobLevel'].value_counts()[2])*100]\n",
    "att_by_joblvl"
   ]
  },
  {
   "cell_type": "code",
   "execution_count": null,
   "metadata": {},
   "outputs": [],
   "source": [
    "count = joblvl_group.get_group((3, 'Yes'))['Attrition'].count()\n",
    "att_by_joblvl.loc[len(att_by_joblvl)] = ['3', 'Yes', count, (count/attrition_df['JobLevel'].value_counts()[3])*100]\n",
    "att_by_joblvl"
   ]
  },
  {
   "cell_type": "code",
   "execution_count": null,
   "metadata": {},
   "outputs": [],
   "source": [
    "count = joblvl_group.get_group((4, 'Yes'))['Attrition'].count()\n",
    "att_by_joblvl.loc[len(att_by_joblvl)] = ['4', 'Yes', count,(count/attrition_df['JobLevel'].value_counts()[4])*100]\n",
    "att_by_joblvl"
   ]
  },
  {
   "cell_type": "code",
   "execution_count": null,
   "metadata": {},
   "outputs": [],
   "source": [
    "count = joblvl_group.get_group((5, 'Yes'))['Attrition'].count()\n",
    "att_by_joblvl.loc[len(att_by_joblvl)] = ['5', 'Yes', count,(count/attrition_df['JobLevel'].value_counts()[5])*100]\n",
    "att_by_joblvl\n",
    "\n",
    "# Insight:\n",
    "'''Attrition is highest in job level 1(26%) followed by job level 3(14.6%)'''"
   ]
  },
  {
   "cell_type": "code",
   "execution_count": null,
   "metadata": {},
   "outputs": [],
   "source": [
    "# Plotting 'Attrition' vs 'JobLevel'\n",
    "plt.figure(figsize = (15,5))\n",
    "sns.barplot(x = 'JobLevel', y = 'Attrition%', data = att_by_joblvl)\n",
    "plt.show()"
   ]
  },
  {
   "cell_type": "markdown",
   "metadata": {},
   "source": [
    "### Analysis on 'JobSatisfaction'"
   ]
  },
  {
   "cell_type": "code",
   "execution_count": null,
   "metadata": {},
   "outputs": [],
   "source": [
    "# Getting total count by category\n",
    "attrition_df['JobSatisfaction'].value_counts()"
   ]
  },
  {
   "cell_type": "code",
   "execution_count": null,
   "metadata": {},
   "outputs": [],
   "source": [
    "# Grouping data according to 'Attrition'\n",
    "attrition_df.groupby(['JobSatisfaction', 'Attrition'])['Attrition'].count()"
   ]
  },
  {
   "cell_type": "code",
   "execution_count": null,
   "metadata": {},
   "outputs": [],
   "source": [
    "# Visualizing total count of 'JobSatisfaction'\n",
    "plt.figure(figsize = (15,5))\n",
    "sns.countplot('JobSatisfaction', data = attrition_df).set(title = 'Count By Job satisfaction Level')\n",
    "plt.show()"
   ]
  },
  {
   "cell_type": "code",
   "execution_count": null,
   "metadata": {},
   "outputs": [],
   "source": [
    "# Calculating 'Attrition' by 'JobSatisfaction'\n",
    "jobsatisfaction_group = attrition_df.groupby(['JobSatisfaction', 'Attrition'])\n",
    "jobsatisfaction_group.groups.keys()"
   ]
  },
  {
   "cell_type": "code",
   "execution_count": null,
   "metadata": {},
   "outputs": [],
   "source": [
    "att_by_jobsatisfaction = pd.DataFrame(columns = ['JobSatisfaction', 'Attrition', 'Count', 'Attrition%'])\n",
    "att_by_jobsatisfaction"
   ]
  },
  {
   "cell_type": "code",
   "execution_count": null,
   "metadata": {},
   "outputs": [],
   "source": [
    "count1 = jobsatisfaction_group.get_group((1,1))['Attrition'].count()\n",
    "att_by_jobsatisfaction.loc[len(att_by_jobsatisfaction)] = ['1','1',count1,\n",
    "                                                    (count1/attrition_df['JobSatisfaction'].value_counts()[1])*100]\n",
    "att_by_jobsatisfaction"
   ]
  },
  {
   "cell_type": "code",
   "execution_count": null,
   "metadata": {},
   "outputs": [],
   "source": [
    "count1 = jobsatisfaction_group.get_group((2,1))['Attrition'].count()\n",
    "att_by_jobsatisfaction.loc[len(att_by_jobsatisfaction)] = ['2','1',count1,\n",
    "                                                    (count1/attrition_df['JobSatisfaction'].value_counts()[2])*100]\n",
    "att_by_jobsatisfaction"
   ]
  },
  {
   "cell_type": "code",
   "execution_count": null,
   "metadata": {},
   "outputs": [],
   "source": [
    "count1 = jobsatisfaction_group.get_group((3,1))['Attrition'].count()\n",
    "att_by_jobsatisfaction.loc[len(att_by_jobsatisfaction)] = ['3','1',count1,\n",
    "                                                    (count1/attrition_df['JobSatisfaction'].value_counts()[3])*100]\n",
    "att_by_jobsatisfaction"
   ]
  },
  {
   "cell_type": "code",
   "execution_count": null,
   "metadata": {},
   "outputs": [],
   "source": [
    "count1 = jobsatisfaction_group.get_group((4,1))['Attrition'].count()\n",
    "att_by_jobsatisfaction.loc[len(att_by_jobsatisfaction)] = ['4','1',count1,\n",
    "                                                    (count1/attrition_df['JobSatisfaction'].value_counts()[4])*100]\n",
    "att_by_jobsatisfaction\n",
    "\n",
    "# Insight:\n",
    "'''Attrition is highest in employees who have job satisfaction level with 22.8%'''"
   ]
  },
  {
   "cell_type": "code",
   "execution_count": null,
   "metadata": {},
   "outputs": [],
   "source": [
    "# Plotting 'Attrition%' vs 'JobSatisfaction'\n",
    "plt.figure(figsize = (15,5))\n",
    "sns.barplot(x = 'JobSatisfaction', y = 'Attrition%', data = att_by_jobsatisfaction)\n",
    "plt.show()\n"
   ]
  },
  {
   "cell_type": "markdown",
   "metadata": {},
   "source": [
    "### Analysis on variable 'MaritalStatus'"
   ]
  },
  {
   "cell_type": "code",
   "execution_count": null,
   "metadata": {},
   "outputs": [],
   "source": [
    "# Getting total count by category\n",
    "attrition_df['MaritalStatus'].value_counts()\n",
    "\n",
    "# Insight:\n",
    "#        Total count of married employees is 1346 which is higher as compared to single and divorced employees"
   ]
  },
  {
   "cell_type": "code",
   "execution_count": null,
   "metadata": {},
   "outputs": [],
   "source": [
    "# Grouping data according to attrition\n",
    "attrition_df.groupby(['MaritalStatus','Attrition'])['Attrition'].count()"
   ]
  },
  {
   "cell_type": "code",
   "execution_count": null,
   "metadata": {},
   "outputs": [],
   "source": [
    "# Visualizing total count of 'MaritalStatus'\n",
    "plt.figure(figsize = (15,5))\n",
    "sns.countplot('MaritalStatus' , data = attrition_df).set(title = 'Count by Marital Status')\n",
    "plt.show()"
   ]
  },
  {
   "cell_type": "code",
   "execution_count": null,
   "metadata": {},
   "outputs": [],
   "source": [
    "# Visualizing 'Attrition' in each category\n",
    "plt.figure(figsize = (15,5))\n",
    "sns.countplot('MaritalStatus' , data = attrition_df , hue = 'Attrition')\n",
    "plt.show()\n",
    "\n",
    "# Insight:\n",
    "'''From the plot below we can see that attition is more in employees who are single as compared to employees\n",
    "  who are married or divorced'''"
   ]
  },
  {
   "cell_type": "markdown",
   "metadata": {},
   "source": [
    "### Analysis on variable 'OverTime'"
   ]
  },
  {
   "cell_type": "code",
   "execution_count": null,
   "metadata": {},
   "outputs": [],
   "source": [
    "# Getting total count by category\n",
    "attrition_df['OverTime'].value_counts()"
   ]
  },
  {
   "cell_type": "code",
   "execution_count": null,
   "metadata": {},
   "outputs": [],
   "source": [
    "# Grouping data by 'Attrition'\n",
    "attrition_df.groupby(['OverTime', 'Attrition'])['Attrition'].count()"
   ]
  },
  {
   "cell_type": "code",
   "execution_count": null,
   "metadata": {},
   "outputs": [],
   "source": [
    "# Visualizing total count\n",
    "plt.figure(figsize = (15,5))\n",
    "sns.countplot('OverTime' , data = attrition_df).set(title = 'Count by Over Time')\n",
    "plt.show()"
   ]
  },
  {
   "cell_type": "code",
   "execution_count": null,
   "metadata": {},
   "outputs": [],
   "source": [
    "# Calculating 'Attrition' by 'OverTime'\n",
    "overtime_group = attrition_df.groupby(['OverTime', 'Attrition'])\n",
    "overtime_group.groups.keys()"
   ]
  },
  {
   "cell_type": "code",
   "execution_count": null,
   "metadata": {},
   "outputs": [],
   "source": [
    "att_by_overtime = pd.DataFrame(columns = ['OverTime', 'Attrition', 'Count', 'Attrition%'])\n",
    "att_by_overtime"
   ]
  },
  {
   "cell_type": "code",
   "execution_count": null,
   "metadata": {},
   "outputs": [],
   "source": [
    "count = overtime_group.get_group(('Yes',1))['Attrition'].count()\n",
    "att_by_overtime.loc[len(att_by_overtime)] = ['Yes','1',count,(count/attrition_df['OverTime'].value_counts()[1])*100]\n",
    "att_by_overtime"
   ]
  },
  {
   "cell_type": "code",
   "execution_count": null,
   "metadata": {},
   "outputs": [],
   "source": [
    "count = overtime_group.get_group(('No', 1))['Attrition'].count()\n",
    "att_by_overtime.loc[len(att_by_overtime)] = ['No','1',count,(count/attrition_df['OverTime'].value_counts()[1])*100]\n",
    "att_by_overtime\n",
    "\n",
    "# Insight:\n",
    "'''Attrition is higher in people who do overtime'''"
   ]
  },
  {
   "cell_type": "code",
   "execution_count": null,
   "metadata": {},
   "outputs": [],
   "source": [
    "# Plotting 'Attrition%' vs 'OverTime'\n",
    "plt.figure(figsize = (15,5))\n",
    "sns.barplot(x = 'OverTime' , y = 'Attrition%', data = att_by_overtime)\n",
    "plt.show()"
   ]
  },
  {
   "cell_type": "markdown",
   "metadata": {},
   "source": [
    "### Analysis on 'MonthlyIncome'"
   ]
  },
  {
   "cell_type": "code",
   "execution_count": null,
   "metadata": {},
   "outputs": [],
   "source": [
    "# Descriptive statistics on 'MonthlyIncome'\n",
    "attrition_df['MonthlyIncome'].describe()\n",
    " \n",
    "# Insight:\n",
    "'''From the five number summary, we can see that mean monthly income is 6502.9 and median of monthly income is 4919.\n",
    "   Since these numbers are statistically different, there are outliers present.\n",
    "   Minimum monthly income of employees is 1009.0 and maximum income is 199999.0.\n",
    "   InterQuartile Range of monthly income is 8380.0- 2911.0=5469.0'''"
   ]
  },
  {
   "cell_type": "code",
   "execution_count": null,
   "metadata": {},
   "outputs": [],
   "source": [
    "# Plotting distribution\n",
    "plt.figure(figsize = (12,5))\n",
    "sns.distplot(attrition_df['MonthlyIncome'])\n",
    "plt.show()\n",
    "\n",
    "# Insight:\n",
    "'''The distribution plot for monthly income is right skewed'''"
   ]
  },
  {
   "cell_type": "code",
   "execution_count": null,
   "metadata": {},
   "outputs": [],
   "source": [
    "# Plotting boxplot\n",
    "plt.figure(figsize = (12,5))\n",
    "sns.boxplot(attrition_df['MonthlyIncome'])\n",
    "plt.show()\n",
    "\n",
    "# Insight:\n",
    "'''From the boxplot we can see that median of montly income is near 5000.Also, there are outliers present'''"
   ]
  },
  {
   "cell_type": "code",
   "execution_count": null,
   "metadata": {},
   "outputs": [],
   "source": [
    "# Plotting 'Attrition' vs 'MonthlyIncome'\n",
    "plt.figure(figsize = (15,8))\n",
    "sns.swarmplot(x = 'Attrition', y = 'MonthlyIncome' ,data = attrition_df , hue = 'MaritalStatus')\n",
    "plt.show()\n",
    "\n",
    "# Insight:\n",
    "'''Attrition is highest in employees where monthly income is between 2500 to 4000'''\n"
   ]
  },
  {
   "cell_type": "code",
   "execution_count": null,
   "metadata": {},
   "outputs": [],
   "source": [
    "# Plotting 'MonthlyIncome' vs 'JobLevel'\n",
    "plt.figure(figsize = (15,5))\n",
    "sns.swarmplot(x = 'JobLevel', y = 'MonthlyIncome', data = attrition_df, hue = 'Department')\n",
    "plt.show()"
   ]
  },
  {
   "cell_type": "code",
   "execution_count": null,
   "metadata": {},
   "outputs": [],
   "source": [
    "# Plotting 'MonthlyIncome' vs 'Age'\n",
    "plt.figure(figsize = (15,5))\n",
    "sns.regplot(x = 'Age', y = 'MonthlyIncome', data = attrition_df)\n",
    "plt.show()\n",
    "\n",
    "# Insight:\n",
    "'''There is linear relationship between monthly income and age.As the age is increasing monthly income\n",
    "   is also increasing'''"
   ]
  },
  {
   "cell_type": "markdown",
   "metadata": {},
   "source": [
    "### Analysis on 'PercentSalaryHike'"
   ]
  },
  {
   "cell_type": "code",
   "execution_count": null,
   "metadata": {},
   "outputs": [],
   "source": [
    "# Descriptive statistics on 'PercentSalaryHike'\n",
    "attrition_df['PercentSalaryHike'].describe()\n",
    "\n",
    "# Insight:\n",
    "'''From the five number summary,we can see that mean of salary hike is 15.2 and median is 14.0\n",
    "   These values are statistically near each other,hence no outliers present.\n",
    "   Minumum percent salary hike is 11.0 and maximum is 25.0\n",
    "   InterOuartile Range for percent salary hike is 18.0-12.0=6.0'''"
   ]
  },
  {
   "cell_type": "code",
   "execution_count": null,
   "metadata": {},
   "outputs": [],
   "source": [
    "# Plotting distribution\n",
    "plt.figure(figsize = (15,5))\n",
    "sns.distplot(attrition_df['PercentSalaryHike'])\n",
    "plt.show()\n",
    "\n",
    "# Insight:\n",
    "'''The distribution plot for salary hike is right skewed'''\n"
   ]
  },
  {
   "cell_type": "code",
   "execution_count": null,
   "metadata": {},
   "outputs": [],
   "source": [
    "# Plotting boxplot\n",
    "plt.figure(figsize = (15,5))\n",
    "sns.boxplot(attrition_df['PercentSalaryHike'])\n",
    "plt.show()\n",
    "\n",
    "# Insight:\n",
    "'''From the boxplot we can see that maximum number of hike is given between 12% and 18%. Median salary hike is 14%'''"
   ]
  },
  {
   "cell_type": "code",
   "execution_count": null,
   "metadata": {},
   "outputs": [],
   "source": [
    "# Plotting 'PercentSalaryHike' for each 'Department'\n",
    "plt.figure(figsize =(15,6))\n",
    "sns.boxplot(x = 'Department', y = 'PercentSalaryHike', data = attrition_df)\n",
    "plt.show()\n",
    "\n",
    "# Insight:\n",
    "\"\"\"From the boxplot we can see that all three department have the same median value of 14% but maximum salary hike\n",
    "   percent for Human Resources is less as compared to Sales and Research & Development\"\"\""
   ]
  },
  {
   "cell_type": "code",
   "execution_count": null,
   "metadata": {},
   "outputs": [],
   "source": [
    "# Plotting 'PercentSalaryHike' for 'JobLevel'\n",
    "plt.figure(figsize = (15,6))\n",
    "sns.boxplot(x = 'JobLevel', y = 'PercentSalaryHike', data = attrition_df)\n",
    "plt.show()\n",
    "\n",
    "# Insight:\n",
    "       \"\"\"From the boxplot we can see that all job level 1 to 5 have same median value of 14% but the maximum\n",
    "       hike for job level 5 is less as compared to the other four job levels. job level 5 shows outlier\"\"\""
   ]
  },
  {
   "cell_type": "code",
   "execution_count": null,
   "metadata": {},
   "outputs": [],
   "source": [
    "# Plotting 'PercentSalaryHike' for 'JobSatiSfaction'\n",
    "plt.figure(figsize = (15,6))\n",
    "sns.boxplot(x = 'JobSatisfaction', y = 'PercentSalaryHike', data = attrition_df)\n",
    "plt.show()\n",
    "\n",
    "# Insight:\n",
    "       \"\"\"From the boxplot we can see that employees who have given job satisfaction as 1,2 and 4 have the maximum\n",
    "         percent hike in their salary(25%)\"\"\""
   ]
  },
  {
   "cell_type": "code",
   "execution_count": null,
   "metadata": {},
   "outputs": [],
   "source": [
    "# Plotting 'PercentSalaryHike' vs 'YearsAtCompany'\n",
    "plt.figure(figsize = (18,5))\n",
    "sns.boxplot(x = 'YearsAtCompany', y = 'PercentSalaryHike', data = attrition_df)\n",
    "plt.show()\n",
    "\n",
    "# Insight:\n",
    "'''We can see that the median hike % from 1 year to 10 years at compaany is almost same'''\n"
   ]
  },
  {
   "cell_type": "code",
   "execution_count": null,
   "metadata": {},
   "outputs": [],
   "source": [
    "# Plotting 'PercentSalaryHike' vs 'PerformanceRating'\n",
    "plt.figure(figsize = (15,5))\n",
    "sns.boxplot(x = 'PerformanceRating', y = 'PercentSalaryHike', data = attrition_df)\n",
    "plt.show()\n",
    "\n",
    "# Insight:\n",
    "'''Performance rating 4 has higher salary hike between 20-25 as compared to rating 3 which has salary hike \n",
    "   between 11-19'''"
   ]
  },
  {
   "cell_type": "markdown",
   "metadata": {},
   "source": [
    "### Analysis on 'PerformanceRating'\n",
    "\n"
   ]
  },
  {
   "cell_type": "code",
   "execution_count": null,
   "metadata": {},
   "outputs": [],
   "source": [
    "# Getting total count of 'Performancerating'\n",
    "attrition_df['PerformanceRating'].value_counts()"
   ]
  },
  {
   "cell_type": "code",
   "execution_count": null,
   "metadata": {},
   "outputs": [],
   "source": [
    "# Grouping with respect to 'Attrition'\n",
    "attrition_df.groupby(['PerformanceRating','Attrition'])['Attrition'].count()"
   ]
  },
  {
   "cell_type": "code",
   "execution_count": null,
   "metadata": {},
   "outputs": [],
   "source": [
    "# Visualizing total count\n",
    "plt.figure(figsize = (15,5))\n",
    "sns.countplot('PerformanceRating', data = attrition_df).set(title = 'Count by Performance Rating')\n",
    "plt.show()"
   ]
  },
  {
   "cell_type": "code",
   "execution_count": null,
   "metadata": {},
   "outputs": [],
   "source": [
    "# Calculating 'Attrition' with respect to 'PerformanceRating'\n",
    "perform_group = attrition_df.groupby(['PerformanceRating', 'Attrition'])\n",
    "perform_group.groups.keys()"
   ]
  },
  {
   "cell_type": "code",
   "execution_count": null,
   "metadata": {},
   "outputs": [],
   "source": [
    "att_by_performance = pd.DataFrame(columns = ['PerformanceRating', 'Attrition', 'Count', 'Attrition%'])\n",
    "att_by_performance"
   ]
  },
  {
   "cell_type": "code",
   "execution_count": null,
   "metadata": {},
   "outputs": [],
   "source": [
    "count1 = perform_group.get_group((3,1))['Attrition'].count()\n",
    "att_by_performance.loc[len(att_by_performance)] = ['3','1',count1,\n",
    "                                            (count1/attrition_df['PerformanceRating'].value_counts()[3])*100]\n",
    "att_by_performance"
   ]
  },
  {
   "cell_type": "code",
   "execution_count": null,
   "metadata": {},
   "outputs": [],
   "source": [
    "count1 = perform_group.get_group((4,1))['Attrition'].count()\n",
    "att_by_performance.loc[len(att_by_performance)] = ['4','1',count1,\n",
    "                                            (count1/attrition_df['PerformanceRating'].value_counts()[4])*100]\n",
    "att_by_performance\n",
    "\n",
    "\n",
    "# Insight:\n",
    "'''Attrition is statistically same for both performance rating '''"
   ]
  },
  {
   "cell_type": "code",
   "execution_count": null,
   "metadata": {},
   "outputs": [],
   "source": [
    "att_by_performance.drop([2])"
   ]
  },
  {
   "cell_type": "code",
   "execution_count": null,
   "metadata": {},
   "outputs": [],
   "source": [
    "# Plotting 'Attrition%' vs 'PerformanceRating'\n",
    "plt.figure(figsize = (15,5))\n",
    "sns.barplot(x = 'PerformanceRating', y = 'Attrition%', data = att_by_performance)\n",
    "plt.show()\n"
   ]
  },
  {
   "cell_type": "code",
   "execution_count": null,
   "metadata": {},
   "outputs": [],
   "source": [
    "attrition_df.head()"
   ]
  },
  {
   "cell_type": "markdown",
   "metadata": {},
   "source": [
    "### Analysis on 'RelationshipSatisfaction'"
   ]
  },
  {
   "cell_type": "code",
   "execution_count": null,
   "metadata": {},
   "outputs": [],
   "source": [
    "# Getting total count of 'RelationshipSatisfaction'\n",
    "attrition_df['RelationshipSatisfaction'].value_counts()"
   ]
  },
  {
   "cell_type": "code",
   "execution_count": null,
   "metadata": {},
   "outputs": [],
   "source": [
    "# Grouping with respect to 'Attrition'\n",
    "attrition_df.groupby(['RelationshipSatisfaction', 'Attrition'])['Attrition'].count()"
   ]
  },
  {
   "cell_type": "code",
   "execution_count": null,
   "metadata": {},
   "outputs": [],
   "source": [
    "# Visualizing total count\n",
    "plt.figure(figsize = (15,5))\n",
    "sns.countplot('RelationshipSatisfaction' , data = attrition_df).set(title = 'Count by Relationship Satisfaction')\n",
    "plt.show()"
   ]
  },
  {
   "cell_type": "code",
   "execution_count": null,
   "metadata": {},
   "outputs": [],
   "source": [
    "# Calculating 'Attrition' with respect to 'RelationshipSatisfaction'\n",
    "relation_group = attrition_df.groupby(['RelationshipSatisfaction','Attrition'])\n",
    "relation_group.groups.keys()"
   ]
  },
  {
   "cell_type": "code",
   "execution_count": null,
   "metadata": {},
   "outputs": [],
   "source": [
    "att_by_relation = pd.DataFrame(columns = ['RelationshipSatisfaction','Attrition','Count','Attrition%'])\n",
    "att_by_relation"
   ]
  },
  {
   "cell_type": "code",
   "execution_count": null,
   "metadata": {},
   "outputs": [],
   "source": [
    "count1 = relation_group.get_group((1,1,))['Attrition'].count()\n",
    "att_by_relation.loc[len(att_by_relation)] = ['1','1',count1,\n",
    "                                            (count1/attrition_df['RelationshipSatisfaction'].value_counts()[1])*100]\n",
    "att_by_relation"
   ]
  },
  {
   "cell_type": "code",
   "execution_count": null,
   "metadata": {},
   "outputs": [],
   "source": [
    "count1 = relation_group.get_group((2,1,))['Attrition'].count()\n",
    "att_by_relation.loc[len(att_by_relation)] = ['2','1',count1,\n",
    "                                            (count1/attrition_df['RelationshipSatisfaction'].value_counts()[2])*100]\n",
    "att_by_relation"
   ]
  },
  {
   "cell_type": "code",
   "execution_count": null,
   "metadata": {},
   "outputs": [],
   "source": [
    "count1 = relation_group.get_group((3,1,))['Attrition'].count()\n",
    "att_by_relation.loc[len(att_by_relation)] = ['3','1',count1,\n",
    "                                            (count1/attrition_df['RelationshipSatisfaction'].value_counts()[3])*100]\n",
    "att_by_relation"
   ]
  },
  {
   "cell_type": "code",
   "execution_count": null,
   "metadata": {},
   "outputs": [],
   "source": [
    "count1 = relation_group.get_group((4,1,))['Attrition'].count()\n",
    "att_by_relation.loc[len(att_by_relation)] = ['4','1',count1,\n",
    "                                            (count1/attrition_df['RelationshipSatisfaction'].value_counts()[4])*100]\n",
    "att_by_relation\n",
    "\n",
    "# Insight:\n",
    "'''Attrition is highest in employees having realtionship satisfaction as 1'''"
   ]
  },
  {
   "cell_type": "code",
   "execution_count": null,
   "metadata": {},
   "outputs": [],
   "source": [
    "# Plotting 'Attrition%' vs 'RelationshipSatisfaction'\n",
    "plt.figure(figsize = (15,5))\n",
    "sns.barplot(x = 'RelationshipSatisfaction', y = 'Attrition%', data = att_by_relation)\n",
    "plt.show()"
   ]
  },
  {
   "cell_type": "markdown",
   "metadata": {},
   "source": [
    "### Analysis on 'TotalWorkingYears'\n"
   ]
  },
  {
   "cell_type": "code",
   "execution_count": null,
   "metadata": {},
   "outputs": [],
   "source": [
    "# Descriptive statitics on 'TotalWorkingYears'\n",
    "attrition_df['TotalWorkingYears'].describe()\n",
    "\n",
    "# Insight:\n",
    "'''From the five number summary,we can see that mean of total working years of employees isn11.27 and median is 10.0\n",
    "   These values are statistically near each other,hence no outliers present.\n",
    "   Maximum year shown is 40'''"
   ]
  },
  {
   "cell_type": "code",
   "execution_count": null,
   "metadata": {},
   "outputs": [],
   "source": [
    "# Plotting distribution\n",
    "plt.figure(figsize = (15,5))\n",
    "sns.distplot(attrition_df['TotalWorkingYears'])\n",
    "plt.show()\n",
    "\n",
    "# Insight:\n",
    "'''The normal distribution curve is right skewed'''"
   ]
  },
  {
   "cell_type": "code",
   "execution_count": null,
   "metadata": {},
   "outputs": [],
   "source": [
    "# Plotting boxplot\n",
    "plt.figure(figsize = (15,5))\n",
    "sns.boxplot(attrition_df['TotalWorkingYears'])\n",
    "plt.show()\n",
    "\n",
    "# Insight:\n",
    "'''Median working years is 10 years.Also,there are outliers present'''"
   ]
  },
  {
   "cell_type": "code",
   "execution_count": null,
   "metadata": {},
   "outputs": [],
   "source": [
    "# Plotting 'Attrition' vs 'TotalWorkingYears'\n",
    "plt.figure(figsize = (15,7))\n",
    "sns.swarmplot(x = 'Attrition', y = 'TotalWorkingYears', data = attrition_df)\n",
    "plt.show()\n",
    "\n",
    "# Insight:\n",
    "'''Attrition is high for total working years of employees between 2 to 10 years'''"
   ]
  },
  {
   "cell_type": "markdown",
   "metadata": {},
   "source": [
    "### Analysis on 'TrainingTimesLastYear'"
   ]
  },
  {
   "cell_type": "code",
   "execution_count": null,
   "metadata": {},
   "outputs": [],
   "source": [
    "# Descriptive statistics on 'TrainingTimesLastYear'\n",
    "attrition_df['TrainingTimesLastYear'].describe()\n",
    "\n",
    "# Insight:\n",
    "'''Frome the five number summary,mean of training given to employees in last year is 2.7\n",
    "   Maximum times training was given was 6'''"
   ]
  },
  {
   "cell_type": "code",
   "execution_count": null,
   "metadata": {},
   "outputs": [],
   "source": [
    "# Plotting boxplot\n",
    "plt.figure(figsize = (8,5))\n",
    "sns.boxplot(attrition_df['TrainingTimesLastYear'])\n",
    "plt.show()\n",
    "\n",
    "# Insight:\n",
    "'''The range of training given to employees in last year is between 1-4.Outliers are seen'''"
   ]
  },
  {
   "cell_type": "code",
   "execution_count": null,
   "metadata": {},
   "outputs": [],
   "source": [
    "# Plotting 'Attrition' vs 'TrainingTimesLastYear'\n",
    "plt.figure(figsize = (12,4))\n",
    "sns.swarmplot(x = 'Attrition', y = 'TrainingTimesLastYear', data = attrition_df)\n",
    "plt.show()\n",
    "\n",
    "# Insight:\n",
    "'''Attrition is high in employees who either got no training or who got 2 to 4 times training last year'''\n"
   ]
  },
  {
   "cell_type": "markdown",
   "metadata": {},
   "source": [
    "### Analysis on 'WorkLifeBalance'"
   ]
  },
  {
   "cell_type": "code",
   "execution_count": null,
   "metadata": {},
   "outputs": [],
   "source": [
    "# Getting total count of 'WorkLifeBalance'\n",
    "attrition_df['WorkLifeBalance'].value_counts()"
   ]
  },
  {
   "cell_type": "code",
   "execution_count": null,
   "metadata": {},
   "outputs": [],
   "source": [
    "# Grouping this data by 'Attrition'\n",
    "attrition_df.groupby(['WorkLifeBalance', 'Attrition'])['Attrition'].count()"
   ]
  },
  {
   "cell_type": "code",
   "execution_count": null,
   "metadata": {},
   "outputs": [],
   "source": [
    "# Visualizing total count\n",
    "plt.figure(figsize = (15,5))\n",
    "sns.countplot('WorkLifeBalance', data = attrition_df).set(title = 'Count by Work Life Balance')\n",
    "plt.show()"
   ]
  },
  {
   "cell_type": "code",
   "execution_count": null,
   "metadata": {},
   "outputs": [],
   "source": [
    "# Calculating 'Attrition' with respect to 'WorkLifeBalance'\n",
    "balance_group = attrition_df.groupby(['WorkLifeBalance','Attrition'])\n",
    "balance_group.groups.keys()"
   ]
  },
  {
   "cell_type": "code",
   "execution_count": null,
   "metadata": {},
   "outputs": [],
   "source": [
    "att_by_balance = pd.DataFrame(columns = ['WorkLifeBalance','Attrition','Count','Attrition%'])\n",
    "att_by_balance"
   ]
  },
  {
   "cell_type": "code",
   "execution_count": null,
   "metadata": {},
   "outputs": [],
   "source": [
    "count1 = balance_group.get_group((1,1))['Attrition'].count()\n",
    "att_by_balance.loc[len(att_by_balance)] = ['1','1',count1,\n",
    "                                           (count1/attrition_df['WorkLifeBalance'].value_counts()[1])*100]\n",
    "att_by_balance"
   ]
  },
  {
   "cell_type": "code",
   "execution_count": null,
   "metadata": {},
   "outputs": [],
   "source": [
    "count1 = balance_group.get_group((2,1))['Attrition'].count()\n",
    "att_by_balance.loc[len(att_by_balance)] = ['2','1',count1,\n",
    "                                           (count1/attrition_df['WorkLifeBalance'].value_counts()[2])*100]\n",
    "att_by_balance"
   ]
  },
  {
   "cell_type": "code",
   "execution_count": null,
   "metadata": {},
   "outputs": [],
   "source": [
    "count1 = balance_group.get_group((3,1))['Attrition'].count()\n",
    "att_by_balance.loc[len(att_by_balance)] = ['3','1',count1,\n",
    "                                           (count1/attrition_df['WorkLifeBalance'].value_counts()[3])*100]\n",
    "att_by_balance"
   ]
  },
  {
   "cell_type": "code",
   "execution_count": null,
   "metadata": {},
   "outputs": [],
   "source": [
    "count1 = balance_group.get_group((4,1))['Attrition'].count()\n",
    "att_by_balance.loc[len(att_by_balance)] = ['4','1',count1,\n",
    "                                           (count1/attrition_df['WorkLifeBalance'].value_counts()[4])*100]\n",
    "att_by_balance\n",
    "\n",
    "# Insight:\n",
    "'''Attrition is highest where employees have given rating 1 to work life balance'''"
   ]
  },
  {
   "cell_type": "code",
   "execution_count": null,
   "metadata": {},
   "outputs": [],
   "source": [
    "# Plotting 'Attrition%' vs 'WorkLifeBalance'\n",
    "plt.figure(figsize = (15,5))\n",
    "sns.barplot(x = 'WorkLifeBalance', y = 'Attrition%', data = att_by_balance)\n",
    "plt.show()"
   ]
  },
  {
   "cell_type": "markdown",
   "metadata": {},
   "source": [
    "### Analysis on 'YearsAtCompany'"
   ]
  },
  {
   "cell_type": "code",
   "execution_count": null,
   "metadata": {},
   "outputs": [],
   "source": [
    "# Descriptive statistics on 'YearsAtCompany'\n",
    "attrition_df['YearsAtCompany'].describe()\n",
    "\n",
    "# Insight:\n",
    "'''Frome the five number summary,mean number of years employee has been at the company is 7 years\n",
    "   Maximum number of years employee has been at the company is 40'''"
   ]
  },
  {
   "cell_type": "code",
   "execution_count": null,
   "metadata": {},
   "outputs": [],
   "source": [
    "# Plotting distribution\n",
    "plt.figure(figsize = (15,5))\n",
    "sns.distplot(attrition_df['YearsAtCompany'])\n",
    "plt.show()\n",
    "\n",
    "# Insight:\n",
    "'''The normal distribution curve is right skewed'''"
   ]
  },
  {
   "cell_type": "code",
   "execution_count": null,
   "metadata": {},
   "outputs": [],
   "source": [
    "# Plotting Boxplot\n",
    "plt.figure(figsize = (15,5))\n",
    "sns.boxplot(attrition_df['YearsAtCompany'])\n",
    "plt.show()\n",
    "\n",
    "# Insight:\n",
    "'''From the boxplot below we can see that most of the employees have between 3-9 years in the company.There are\n",
    "   outliers present'''"
   ]
  },
  {
   "cell_type": "code",
   "execution_count": null,
   "metadata": {},
   "outputs": [],
   "source": [
    "# Plotting 'Attrition' vs 'YearsAtCompany'\n",
    "plt.figure(figsize = (15,8))\n",
    "sns.swarmplot(x = 'Attrition', y = 'YearsAtCompany', data = attrition_df, hue = 'StockOptionLevel')\n",
    "plt.show()\n",
    "\n",
    "# Insight:\n",
    "'''Attrition is highest in employees who have had between 1-10 years at the company'''"
   ]
  },
  {
   "cell_type": "markdown",
   "metadata": {},
   "source": [
    "### Analysis on 'YearsInCurrentRole'"
   ]
  },
  {
   "cell_type": "code",
   "execution_count": null,
   "metadata": {},
   "outputs": [],
   "source": [
    "# Descriptive statistics on 'YearsInCurrentRole'\n",
    "attrition_df['YearsInCurrentRole'].describe()\n",
    "\n",
    "# Insight:\n",
    "'''From the five number summary,mean employees in thier current role in last year is 4 years\n",
    "   Maximum years in current role is  18'''"
   ]
  },
  {
   "cell_type": "code",
   "execution_count": null,
   "metadata": {},
   "outputs": [],
   "source": [
    "# Plotting distribution\n",
    "plt.figure(figsize = (15,5))\n",
    "sns.distplot(attrition_df['YearsInCurrentRole'])\n",
    "plt.show()\n",
    "\n",
    "# Insight:\n",
    "'''The normal distribution curve is right skewed'''"
   ]
  },
  {
   "cell_type": "code",
   "execution_count": null,
   "metadata": {},
   "outputs": [],
   "source": [
    "# Plotting Boxplot\n",
    "plt.figure(figsize = (15,5))\n",
    "sns.boxplot(attrition_df['YearsInCurrentRole'])\n",
    "plt.show()\n",
    "\n",
    "# Insight:\n",
    "'''From the plot below we can see that most of the employeees have been in the current role for \n",
    "   somehwere between 1-7.5 years. There are outliers present as well'''"
   ]
  },
  {
   "cell_type": "code",
   "execution_count": null,
   "metadata": {},
   "outputs": [],
   "source": [
    "# Plotting 'Attrition' vs 'YearsInCurrentRole'\n",
    "plt.figure(figsize = (15,5))\n",
    "sns.swarmplot(x = 'Attrition', y = 'YearsInCurrentRole', data = attrition_df, hue = 'PerformanceRating')\n",
    "plt.show()\n",
    "\n",
    "# Insight:\n",
    "'''From the plot below we can see that maximum attrition has happened for employees who have worked in their \n",
    "   current role for 1 year, 2.5 years and 7.5 years.'''"
   ]
  },
  {
   "cell_type": "markdown",
   "metadata": {},
   "source": [
    "### Analysis on 'YearsSinceLastPromotion'"
   ]
  },
  {
   "cell_type": "code",
   "execution_count": null,
   "metadata": {},
   "outputs": [],
   "source": [
    "# Descriptive statistics on 'YearsSinceLastPromotion'\n",
    "attrition_df['YearsSinceLastPromotion'].describe()\n",
    "\n",
    "# Insight:\n",
    "'''From the five number summary,mean of employees since their last promotion is 2.\n",
    "   Maximum years since employee had promotion is 15 years'''"
   ]
  },
  {
   "cell_type": "code",
   "execution_count": null,
   "metadata": {},
   "outputs": [],
   "source": [
    "# Plotting distribution\n",
    "plt.figure(figsize = (15,5))\n",
    "sns.distplot(attrition_df['YearsSinceLastPromotion'])\n",
    "plt.show()\n",
    "\n",
    "# Insight:\n",
    "'''The normal distribution curve is right skewed'''"
   ]
  },
  {
   "cell_type": "code",
   "execution_count": null,
   "metadata": {},
   "outputs": [],
   "source": [
    "# Plotting Boxplot\n",
    "plt.figure(figsize = (15,5))\n",
    "sns.boxplot(attrition_df['YearsSinceLastPromotion'])\n",
    "plt.show()\n",
    "\n",
    "# Insight:\n",
    "'''From the boxplot we can see that years since most employees got their last promotion is between 0-5 years '''"
   ]
  },
  {
   "cell_type": "code",
   "execution_count": null,
   "metadata": {},
   "outputs": [],
   "source": [
    "# Plotting 'Attrition' vs 'YearsSinceLastPromotion'\n",
    "plt.figure(figsize = (15,5))\n",
    "sns.swarmplot(x = 'Attrition', y = 'YearsSinceLastPromotion', data = attrition_df)\n",
    "plt.show()\n",
    "\n",
    "#Insight:\n",
    "'''Attrition is higher in employees who got their last promotion 0-3 years'''\n"
   ]
  },
  {
   "cell_type": "markdown",
   "metadata": {},
   "source": [
    "### Analysis on 'YearsWithCurrManager'"
   ]
  },
  {
   "cell_type": "code",
   "execution_count": null,
   "metadata": {},
   "outputs": [],
   "source": [
    "# Descriptive statistics on 'YearsWithCurrManager'\n",
    "attrition_df['YearsWithCurrManager'].describe()\n",
    "\n",
    "# Insight:\n",
    "'''From the five number summary,mean of years employee has with current manager is 4 years\n",
    "   Maximum years employee has had with current manager is 17 years'''"
   ]
  },
  {
   "cell_type": "code",
   "execution_count": null,
   "metadata": {},
   "outputs": [],
   "source": [
    "# Plotting distribution\n",
    "plt.figure(figsize = (15,5))\n",
    "sns.distplot(attrition_df['YearsWithCurrManager'])\n",
    "plt.show()\n",
    "\n",
    "# Insight:\n",
    "'''The normal distribution curve is right skewed'''"
   ]
  },
  {
   "cell_type": "code",
   "execution_count": null,
   "metadata": {},
   "outputs": [],
   "source": [
    "# Plotting Boxplot\n",
    "plt.figure(figsize = (15,5))\n",
    "sns.boxplot(attrition_df['YearsWithCurrManager'])\n",
    "plt.show()\n",
    "\n",
    "# Insight:\n",
    "'''From the plot below we can see that most of the employees have had between 2-7 years with \n",
    "   their current manager.There are outliers present'''"
   ]
  },
  {
   "cell_type": "code",
   "execution_count": null,
   "metadata": {},
   "outputs": [],
   "source": [
    "# Plotting 'Attrition' vs 'YearsWithCurrManager'\n",
    "plt.figure(figsize = (15,5))\n",
    "sns.swarmplot(x = 'Attrition', y = 'YearsWithCurrManager', data = attrition_df, hue = 'RelationshipSatisfaction')\n",
    "plt.show()\n",
    "\n",
    "# Insight:\n",
    "'''Attrition is high in employees who have had between 1-7.5 years with their current managers'''\n"
   ]
  },
  {
   "cell_type": "markdown",
   "metadata": {},
   "source": [
    "# Outlier Removal"
   ]
  },
  {
   "cell_type": "code",
   "execution_count": null,
   "metadata": {},
   "outputs": [],
   "source": [
    "# There are outliers present in 'YearsWithCurrManager','YearsSinceLastPromotion','YearsInCurrentRole'\n",
    "# 'YearsAtCompany','TrainingTimesLastYear','TotalWorkingYears','MonthlyIncome', variables/columns.\n",
    "\n",
    "# For model building these outliers are not removed as Random Forest model can handle outliers.\n",
    "# The accuracy is coming to 90% when all the data is used\n"
   ]
  },
  {
   "cell_type": "markdown",
   "metadata": {},
   "source": [
    "# Data Pre-Processing"
   ]
  },
  {
   "cell_type": "code",
   "execution_count": null,
   "metadata": {},
   "outputs": [],
   "source": [
    "contact_df = attrition_df"
   ]
  },
  {
   "cell_type": "code",
   "execution_count": null,
   "metadata": {},
   "outputs": [],
   "source": [
    "def preprocessor(df):\n",
    "    res_df = df.copy()\n",
    "    le = preprocessing.LabelEncoder()\n",
    "    \n",
    "    res_df['BusinessTravel'] = le.fit_transform(res_df['BusinessTravel'])\n",
    "    res_df['Department'] = le.fit_transform(res_df['Department'])\n",
    "    res_df['EducationField'] = le.fit_transform(res_df['EducationField'])\n",
    "    res_df['Gender'] = le.fit_transform(res_df['Gender'])\n",
    "    res_df['JobRole'] = le.fit_transform(res_df['JobRole'])\n",
    "    res_df['MaritalStatus'] = le.fit_transform(res_df['MaritalStatus'])\n",
    "    res_df['OverTime'] = le.fit_transform(res_df['OverTime'])\n",
    "    return res_df"
   ]
  },
  {
   "cell_type": "code",
   "execution_count": null,
   "metadata": {},
   "outputs": [],
   "source": [
    "encoded_df = preprocessor(contact_df)\n",
    "\n",
    "X = encoded_df.drop(['Attrition'],axis = 1).values\n",
    "y = encoded_df['Attrition'].values\n"
   ]
  },
  {
   "cell_type": "markdown",
   "metadata": {},
   "source": [
    "# Splitting Training and Testing Data"
   ]
  },
  {
   "cell_type": "code",
   "execution_count": null,
   "metadata": {},
   "outputs": [],
   "source": [
    "X_train, X_test, y_train, y_test = train_test_split(X,y,test_size =0.2, random_state = 200)"
   ]
  },
  {
   "cell_type": "code",
   "execution_count": null,
   "metadata": {},
   "outputs": [],
   "source": [
    "# Looking at the shape of all the training and testing data\n",
    "print('Training Features Shape: ', X_train.shape)\n",
    "print('Training Labels shape: ', y_train.shape)\n",
    "print('Testing Features shape: ', X_test.shape)\n",
    "print('Testing Labels shape: ', y_test.shape)"
   ]
  },
  {
   "cell_type": "markdown",
   "metadata": {},
   "source": [
    "# Random Forest Classifier"
   ]
  },
  {
   "cell_type": "code",
   "execution_count": null,
   "metadata": {},
   "outputs": [],
   "source": [
    "# Set the random state \n",
    "fit_rf = RandomForestClassifier(random_state = 200)"
   ]
  },
  {
   "cell_type": "markdown",
   "metadata": {},
   "source": [
    "# OOB(Out Of Bag) Error"
   ]
  },
  {
   "cell_type": "code",
   "execution_count": null,
   "metadata": {},
   "outputs": [],
   "source": [
    "fit_rf.set_params(warm_start=True, \n",
    "                  oob_score=True)\n",
    "\n",
    "min_estimators = 100\n",
    "max_estimators = 1000\n",
    "\n",
    "error_rate = {}\n",
    "\n",
    "for i in range(min_estimators, max_estimators + 1):\n",
    "    fit_rf.set_params(n_estimators=i)\n",
    "    fit_rf.fit(X_train, y_train)\n",
    "\n",
    "    oob_error = 1 - fit_rf.oob_score_\n",
    "    error_rate[i] = oob_error"
   ]
  },
  {
   "cell_type": "code",
   "execution_count": null,
   "metadata": {},
   "outputs": [],
   "source": [
    "# Convert dictionary to a pandas series for easy plotting \n",
    "oob_series = pd.Series(error_rate)"
   ]
  },
  {
   "cell_type": "code",
   "execution_count": null,
   "metadata": {},
   "outputs": [],
   "source": [
    "fig, ax = plt.subplots(figsize=(15, 10))\n",
    "\n",
    "ax.set_facecolor('#fafafa')\n",
    "\n",
    "oob_series.plot(kind='line',color = 'red')\n",
    "plt.axhline(0.0375, color='#875FDB',linestyle='--')\n",
    "plt.axhline(0.0360, color='#875FDB',linestyle='--')\n",
    "plt.xlabel('n_estimators')\n",
    "plt.ylabel('OOB Error Rate')\n",
    "plt.title('OOB Error Rate Across various Forest sizes \\n(From 100 to 1000 trees)')"
   ]
  },
  {
   "cell_type": "code",
   "execution_count": null,
   "metadata": {},
   "outputs": [],
   "source": [
    "# Calculated n_estimator using OOB Error. n_estimator used here is 800\n",
    "print('OOB Error rate for 800 trees is: {0:.5f}'.format(oob_series[800]))"
   ]
  },
  {
   "cell_type": "markdown",
   "metadata": {},
   "source": [
    "# Hyper-Parameter Optimization Using GridSearchCV"
   ]
  },
  {
   "cell_type": "code",
   "execution_count": null,
   "metadata": {},
   "outputs": [],
   "source": [
    "np.random.seed(42)\n",
    "start = time.time()\n",
    "\n",
    "param_dist = {'max_depth': [2, 3, 4,5,6],\n",
    "              'bootstrap': [True, False],\n",
    "              'max_features': ['auto', 'sqrt', 'log2', None],\n",
    "              'criterion': ['gini', 'entropy']}\n",
    "\n",
    "cv_rf = GridSearchCV(fit_rf, cv = 10,\n",
    "                     param_grid=param_dist, \n",
    "                     n_jobs = 3)\n",
    "\n",
    "cv_rf.fit(X_train, y_train)\n",
    "print('Best Parameters using grid search: \\n', cv_rf.best_params_)\n",
    "end = time.time()\n",
    "print('Time taken in grid search: {0: .2f}'.format(end - start))"
   ]
  },
  {
   "cell_type": "code",
   "execution_count": null,
   "metadata": {},
   "outputs": [],
   "source": [
    "# Set best parameters given by grid search \n",
    "fit_rf.set_params(criterion = 'gini',\n",
    "                  max_features = None, \n",
    "                  max_depth = 6)"
   ]
  },
  {
   "cell_type": "code",
   "execution_count": null,
   "metadata": {},
   "outputs": [],
   "source": [
    "# Refine the tree via OOB Output\n",
    "fit_rf.set_params(n_estimators=800,\n",
    "                  bootstrap = True,\n",
    "                  warm_start=False, \n",
    "                  oob_score=False)"
   ]
  },
  {
   "cell_type": "markdown",
   "metadata": {},
   "source": [
    "# Train Random Forest"
   ]
  },
  {
   "cell_type": "code",
   "execution_count": null,
   "metadata": {},
   "outputs": [],
   "source": [
    "fit_rf.fit(X_train, y_train)"
   ]
  },
  {
   "cell_type": "markdown",
   "metadata": {},
   "source": [
    "# Predictions"
   ]
  },
  {
   "cell_type": "code",
   "execution_count": null,
   "metadata": {},
   "outputs": [],
   "source": [
    "prediction_rf = fit_rf.predict(X_test)"
   ]
  },
  {
   "cell_type": "markdown",
   "metadata": {},
   "source": [
    "# Confusion Matrix"
   ]
  },
  {
   "cell_type": "code",
   "execution_count": null,
   "metadata": {},
   "outputs": [],
   "source": [
    "print (confusion_matrix(y_test, prediction_rf))"
   ]
  },
  {
   "cell_type": "code",
   "execution_count": null,
   "metadata": {},
   "outputs": [],
   "source": [
    "import itertools\n",
    "from sklearn.metrics import confusion_matrix\n",
    "def plot_confusion_matrix(model, normalize=False): # This function prints and plots the confusion matrix.\n",
    "    cm = confusion_matrix(y_test, model, labels=[0, 1])\n",
    "    classes=[\"Success\", \"Default\"]\n",
    "    cmap = plt.cm.Reds\n",
    "    title = \"Confusion Matrix\"\n",
    "    if normalize:\n",
    "        cm = cm.astype('float') / cm.sum(axis=1)[:, np.newaxis]\n",
    "        cm = np.around(cm, decimals=3)\n",
    "    plt.imshow(cm, interpolation='nearest', cmap=cmap)\n",
    "    plt.title(title)\n",
    "    plt.colorbar()\n",
    "    tick_marks = np.arange(len(classes))\n",
    "    plt.xticks(tick_marks, classes, rotation=45)\n",
    "    plt.yticks(tick_marks, classes)\n",
    "    thresh = cm.max() / 2.\n",
    "    for i, j in itertools.product(range(cm.shape[0]), range(cm.shape[1])):\n",
    "        plt.text(j, i, cm[i, j],\n",
    "                 horizontalalignment=\"center\",\n",
    "                 color=\"white\" if cm[i, j] > thresh else \"black\")\n",
    "    plt.tight_layout()\n",
    "    plt.ylabel('True label')\n",
    "    plt.xlabel('Predicted label')"
   ]
  },
  {
   "cell_type": "code",
   "execution_count": null,
   "metadata": {},
   "outputs": [],
   "source": [
    "plt.figure(figsize=(6,6))\n",
    "plot_confusion_matrix(prediction_rf, normalize=False)\n",
    "plt.show()"
   ]
  },
  {
   "cell_type": "markdown",
   "metadata": {},
   "source": [
    "# Accuracy"
   ]
  },
  {
   "cell_type": "code",
   "execution_count": null,
   "metadata": {},
   "outputs": [],
   "source": [
    "accuracy_rf = fit_rf.score(X_test, y_test)\n",
    "\n",
    "print(\"Here is our mean accuracy on the test set:\\n {0:.3f}\"\\\n",
    "      .format(accuracy_rf))"
   ]
  },
  {
   "cell_type": "markdown",
   "metadata": {},
   "source": [
    "# Error Rate"
   ]
  },
  {
   "cell_type": "code",
   "execution_count": null,
   "metadata": {},
   "outputs": [],
   "source": [
    "# Here we calculate the test error rate!\n",
    "test_error_rate_rf = 1 - accuracy_rf\n",
    "print(\"The test error rate for our model is:\\n {0: .4f}\"\\\n",
    "      .format(test_error_rate_rf))"
   ]
  },
  {
   "cell_type": "markdown",
   "metadata": {},
   "source": [
    "# Area Under Curve(AUC)"
   ]
  },
  {
   "cell_type": "code",
   "execution_count": null,
   "metadata": {},
   "outputs": [],
   "source": [
    "predictions_prob = fit_rf.predict_proba(X_test)[:, 1]\n",
    "\n",
    "fpr2, tpr2, _ = roc_curve(y_test,\n",
    "                          predictions_prob,\n",
    "                          pos_label = 1)"
   ]
  },
  {
   "cell_type": "code",
   "execution_count": null,
   "metadata": {},
   "outputs": [],
   "source": [
    "auc_rf = auc(fpr2, tpr2)"
   ]
  },
  {
   "cell_type": "code",
   "execution_count": null,
   "metadata": {},
   "outputs": [],
   "source": [
    "def plot_roc_curve(fpr, tpr, auc, estimator, xlim=None, ylim=None):\n",
    "    \"\"\"\n",
    "    Purpose\n",
    "    ----------\n",
    "    Function creates ROC Curve for respective model given selected parameters.\n",
    "    Optional x and y limits to zoom into graph\n",
    "\n",
    "    Parameters\n",
    "    ----------\n",
    "    * fpr: Array returned from sklearn.metrics.roc_curve for increasing\n",
    "            false positive rates\n",
    "    * tpr: Array returned from sklearn.metrics.roc_curve for increasing\n",
    "            true positive rates\n",
    "    * auc: Float returned from sklearn.metrics.auc (Area under Curve)\n",
    "    * estimator: String represenation of appropriate model, can only contain the\n",
    "    following: ['knn', 'rf', 'nn']\n",
    "    * xlim: Set upper and lower x-limits\n",
    "    * ylim: Set upper and lower y-limits\n",
    "    \"\"\"\n",
    "    my_estimators = {'knn': ['Kth Nearest Neighbor', 'deeppink'],\n",
    "              'rf': ['Random Forest', 'red'],\n",
    "              'nn': ['Neural Network', 'purple']}\n",
    "\n",
    "    try:\n",
    "        plot_title = my_estimators[estimator][0]\n",
    "        color_value = my_estimators[estimator][1]\n",
    "    except KeyError as e:\n",
    "        print(\"'{0}' does not correspond with the appropriate key inside the estimators dictionary. \\\n",
    "\\nPlease refer to function to check `my_estimators` dictionary.\".format(estimator))\n",
    "        raise\n",
    "\n",
    "    fig, ax = plt.subplots(figsize=(10, 10))\n",
    "    ax.set_facecolor('#fafafa')\n",
    "\n",
    "    plt.plot(fpr, tpr,\n",
    "             color=color_value,\n",
    "             linewidth=1)\n",
    "    plt.title('ROC Curve For {0} (AUC = {1: 0.3f})'\\\n",
    "              .format(plot_title, auc))\n",
    "\n",
    "    plt.plot([0, 1], [0, 1], 'k--', lw=2) # Add Diagonal line\n",
    "    plt.plot([0, 0], [1, 0], 'k--', lw=2, color = 'black')\n",
    "    plt.plot([1, 0], [1, 1], 'k--', lw=2, color = 'black')\n",
    "    if xlim is not None:\n",
    "        plt.xlim(*xlim)\n",
    "    if ylim is not None:\n",
    "        plt.ylim(*ylim)\n",
    "    plt.xlabel('False Positive Rate')\n",
    "    plt.ylabel('True Positive Rate')\n",
    "    plt.show()\n",
    "    plt.close()\n"
   ]
  },
  {
   "cell_type": "code",
   "execution_count": null,
   "metadata": {},
   "outputs": [],
   "source": [
    "plot_roc_curve(fpr2, tpr2, auc_rf, 'rf',\n",
    "               xlim=(-0.01, 1.05), \n",
    "               ylim=(0.001, 1.05))"
   ]
  },
  {
   "cell_type": "markdown",
   "metadata": {},
   "source": [
    "# Variable Importance"
   ]
  },
  {
   "cell_type": "code",
   "execution_count": null,
   "metadata": {},
   "outputs": [],
   "source": [
    "names_index = ['Age', 'BusinessTravel', 'DailyRate', 'Department',\n",
    "       'DistanceFromHome', 'Education', 'EducationField', 'EmployeeNumber',\n",
    "       'EnvironmentSatisfaction', 'Gender', 'HourlyRate', 'JobInvolvement',\n",
    "       'JobLevel', 'JobRole', 'JobSatisfaction', 'MaritalStatus',\n",
    "       'MonthlyIncome', 'MonthlyRate', 'NumCompaniesWorked', 'OverTime',\n",
    "       'PercentSalaryHike', 'PerformanceRating', 'RelationshipSatisfaction',\n",
    "       'StockOptionLevel', 'TotalWorkingYears', 'TrainingTimesLastYear',\n",
    "       'WorkLifeBalance', 'YearsAtCompany', 'YearsInCurrentRole',\n",
    "       'YearsSinceLastPromotion', 'YearsWithCurrManager']"
   ]
  },
  {
   "cell_type": "code",
   "execution_count": null,
   "metadata": {},
   "outputs": [],
   "source": [
    "feature_names = names_index"
   ]
  },
  {
   "cell_type": "code",
   "execution_count": null,
   "metadata": {},
   "outputs": [],
   "source": [
    "importances = fit_rf.feature_importances_"
   ]
  },
  {
   "cell_type": "code",
   "execution_count": null,
   "metadata": {},
   "outputs": [],
   "source": [
    "X_train = pd.DataFrame(X_train, columns=feature_names)"
   ]
  },
  {
   "cell_type": "code",
   "execution_count": null,
   "metadata": {},
   "outputs": [],
   "source": [
    "# Sort the feature importance in descending order\n",
    "sorted_indices = np.argsort(importances)[::-1]"
   ]
  },
  {
   "cell_type": "code",
   "execution_count": null,
   "metadata": {},
   "outputs": [],
   "source": [
    "plt.figure(figsize = (12,5))\n",
    "plt.title('Feature Importance')\n",
    "plt.bar(range(X_train.shape[1]), importances[sorted_indices], align='center')\n",
    "plt.xticks(range(X_train.shape[1]), X_train.columns[sorted_indices], rotation=90)\n",
    "plt.tight_layout()\n",
    "plt.show()"
   ]
  },
  {
   "cell_type": "markdown",
   "metadata": {},
   "source": [
    "# Conclusion:"
   ]
  },
  {
   "cell_type": "markdown",
   "metadata": {},
   "source": [
    "### The accuracy of the model on the test set 89.8% and the Area Under Curve is 94.3%. The test error rate is 0.1%. From this we can say that there are no chance of overfitting or underfitting. Important features that are contributing to the attrition of the employees are 'MonthlyIncome', 'OverTime', Age', 'DailyRate' 'DistanceFromHome', 'TotalWorkingYears', 'StockOptionLevel'  and  'YearsAtcompany'   "
   ]
  },
  {
   "cell_type": "code",
   "execution_count": null,
   "metadata": {},
   "outputs": [],
   "source": []
  },
  {
   "cell_type": "code",
   "execution_count": null,
   "metadata": {},
   "outputs": [],
   "source": []
  }
 ],
 "metadata": {
  "kernelspec": {
   "display_name": "Python 3 (ipykernel)",
   "language": "python",
   "name": "python3"
  },
  "language_info": {
   "codemirror_mode": {
    "name": "ipython",
    "version": 3
   },
   "file_extension": ".py",
   "mimetype": "text/x-python",
   "name": "python",
   "nbconvert_exporter": "python",
   "pygments_lexer": "ipython3",
   "version": "3.8.12"
  }
 },
 "nbformat": 4,
 "nbformat_minor": 4
}
